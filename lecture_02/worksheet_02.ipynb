{
 "cells": [
  {
   "attachments": {},
   "cell_type": "markdown",
   "metadata": {},
   "source": [
    "# Worksheet 02\n",
    "\n",
    "Name:  Qinfeng Li\n",
    "UID: 084055774\n",
    "\n",
    "### Topics\n",
    "\n",
    "- Effective Programming\n",
    "\n",
    "### Effective Programming\n",
    "\n",
    "a) What is a drawback of the top down approach?"
   ]
  },
  {
   "cell_type": "markdown",
   "metadata": {},
   "source": [
    "Hard to test until most of the structure are finish, hard to debug."
   ]
  },
  {
   "cell_type": "markdown",
   "metadata": {},
   "source": [
    "b) What is a drawback of the bottom up approach?"
   ]
  },
  {
   "cell_type": "markdown",
   "metadata": {},
   "source": [
    "Tester can only see low level scale of the program,and no representation of working model."
   ]
  },
  {
   "cell_type": "markdown",
   "metadata": {},
   "source": [
    "c) What are 3 things you can do to have a better debugging experience?"
   ]
  },
  {
   "cell_type": "markdown",
   "metadata": {},
   "source": [
    "Read the error, sanity check, search online for solution"
   ]
  },
  {
   "attachments": {},
   "cell_type": "markdown",
   "metadata": {},
   "source": [
    "d) Follow along with the live coding. You can write your code here:"
   ]
  },
  {
   "cell_type": "code",
   "execution_count": null,
   "metadata": {},
   "outputs": [],
   "source": [
    "class Board:\n",
    "\n",
    "    def __init__(self) -> None:\n",
    "        self.board = [[\"_\" for _ in range(8)] for _ in range(8)]\n",
    "        \n",
    "\n",
    "    def __repr__(self):\n",
    "        res = \"\"\n",
    "        for row in self.board:\n",
    "            for col in row:\n",
    "                res += col\n",
    "                res += \" \"\n",
    "            res += \"\\n\"\n",
    "        return res\n",
    "    \n",
    "    def search(self):\n",
    "        row = 0\n",
    "        col = 0\n",
    "\n",
    "\n",
    "        while row >=0:\n",
    "            if row < 8:\n",
    "                if self.isLeagal(row,col):\n",
    "                    self.setQueenAt(row,col)\n",
    "                    row += 1\n",
    "                    col = 0\n",
    "                else:\n",
    "                    col += 1\n",
    "                    while col >= 8:\n",
    "                        col = self.getQueenOn(row - 1)\n",
    "                        self.unsetQueenOn(row - 1)\n",
    "                        col += 1\n",
    "                        row -= 1\n",
    "            else:\n",
    "                print(\"found solution\")\n",
    "                print(self)\n",
    "                while col >= 8:\n",
    "                        col = self.getQueenOn(row - 1)\n",
    "                        self.unsetQueenOn(row - 1)\n",
    "                        col += 1\n",
    "                        row -= 1\n",
    "\n",
    "            print(\"No more solution\")     \n",
    "\n",
    "\n",
    "\n",
    "    def isLegalRow(self,row,col):\n",
    "        for j in range(len(self.board)):\n",
    "            if self.board[row][j] == \"Q\":\n",
    "                return False\n",
    "        return True\n",
    "        \n",
    "    def isLegalCol(self,row,col):\n",
    "        for i in range(len(self.board)):\n",
    "            if self.board[i][col] == \"Q\":\n",
    "                return False\n",
    "        return True\n",
    "\n",
    "    def isOnBoard(self,row,col):\n",
    "        return row>= 0 and row < 8 and col >=0 and col <8    \n",
    "        \n",
    "    def isLegalDiag(self,row,col):\n",
    "        for i in range(len(self.board)):\n",
    "            if self.isOnBoard(row-i, col-i) and self.board[row-i][col-i] == \"Q\":\n",
    "                return False\n",
    "            if self.isOnBoard(row-i, col+i) and self.board[row-i][col+i] == \"Q\":\n",
    "                return False\n",
    "            if self.isOnBoard(row+i, col-i) and self.board[row+i][col-i] == \"Q\":\n",
    "                return False\n",
    "            if self.isOnBoard(row+i, col+i) and self.board[row+i][col+i] == \"Q\":\n",
    "                return False\n",
    "        return True\n",
    "\n",
    "\n",
    "    def isLeagal (self, row, col):\n",
    "        if not self.isLegalRow(row,col):\n",
    "            return False\n",
    "        if not self.isLegalCol(row,col):\n",
    "            return False\n",
    "        if not self.isLegalDiag(row,col):\n",
    "            return False\n",
    "        return True \n",
    "    \n",
    "\n",
    "\n",
    "    def setQueenAt(self, row, col):\n",
    "        self.board[row][col] = \"Q\"\n",
    "\n",
    "    def unsetQueenOn(self, row):\n",
    "        self.board[row] = [\"_\" for _ in range(8)]\n",
    "\n",
    "    def getQueenOn(self, row):\n",
    "        for col in range(len(self.board)):\n",
    "            if self.board[row][col] == \"Q\":\n",
    "                return col\n",
    "        return ValueError(\"program Error\")\n",
    "\n",
    "\n",
    "\n",
    "my_baord = Board()\n",
    "my_baord.search()\n",
    "\n",
    "\n"
   ]
  }
 ],
 "metadata": {
  "kernelspec": {
   "display_name": "Python 3",
   "language": "python",
   "name": "python3"
  },
  "language_info": {
   "name": "python",
   "version": "3.11.1 (main, Dec  7 2022, 00:00:00) [GCC 12.2.1 20221121 (Red Hat 12.2.1-4)]"
  },
  "orig_nbformat": 4,
  "vscode": {
   "interpreter": {
    "hash": "76ca05dc3ea24b2e3b98cdb7774adfbb40773424bf5109b477fd793f623715af"
   }
  }
 },
 "nbformat": 4,
 "nbformat_minor": 2
}
